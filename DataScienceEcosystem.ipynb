{
  "metadata": {
    "kernelspec": {
      "name": "python",
      "display_name": "Python (Pyodide)",
      "language": "python"
    },
    "language_info": {
      "codemirror_mode": {
        "name": "python",
        "version": 3
      },
      "file_extension": ".py",
      "mimetype": "text/x-python",
      "name": "python",
      "nbconvert_exporter": "python",
      "pygments_lexer": "ipython3",
      "version": "3.8"
    }
  },
  "nbformat_minor": 4,
  "nbformat": 4,
  "cells": [
    {
      "cell_type": "markdown",
      "source": "# Data Science Tools and Ecosystem",
      "metadata": {}
    },
    {
      "cell_type": "markdown",
      "source": "#### In this notebook, Data Science Tools and Ecosystem are summarized",
      "metadata": {}
    },
    {
      "cell_type": "markdown",
      "source": "***Objectives.***: \nThis notebook covered: \n+ creating Jupyter notebook, \n+ create markdown, \n+ create codes etc. ",
      "metadata": {}
    },
    {
      "cell_type": "markdown",
      "source": "Some of the popular languages that Data Scientists use are:\n1. Python\n2. SQL\n3. Julia\n4. MATLAB\n5. SQL\n6. R",
      "metadata": {}
    },
    {
      "cell_type": "markdown",
      "source": "Some of the commonly used data Science libraries:\n1. Pandas\n2. NumPy\n3. Seaborn\n4. Scikit Learn",
      "metadata": {}
    },
    {
      "cell_type": "markdown",
      "source": "|Data Science Tools|\n|------------------|\n|Jupyter Notebook|\n|PyTorch|\n |NumPy|\n\n\n",
      "metadata": {}
    },
    {
      "cell_type": "markdown",
      "source": "* Click the running Kernel, For Example, **Pyolite**, to see which other kernels are available.<br/>\n\n  > _Please don't switch the existing kernel._\n",
      "metadata": {}
    },
    {
      "cell_type": "markdown",
      "source": "\n### Below are a few examples of evaluating arithmatic expressions in Python.\n",
      "metadata": {}
    },
    {
      "cell_type": "markdown",
      "source": "\n### This is a simple arithmatic expression to multiply then add integers.\n$$\n(3*4)+5 =17\n$$\n",
      "metadata": {}
    },
    {
      "cell_type": "code",
      "source": "",
      "metadata": {
        "trusted": true
      },
      "outputs": [],
      "execution_count": null
    },
    {
      "cell_type": "markdown",
      "source": "## Lakshmi Holla and Niveditha Pandith\nDeepak P\n\n",
      "metadata": {}
    }
  ]
}